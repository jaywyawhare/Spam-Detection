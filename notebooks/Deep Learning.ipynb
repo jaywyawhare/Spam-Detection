{
 "cells": [
  {
   "attachments": {},
   "cell_type": "markdown",
   "metadata": {},
   "source": [
    "# Spam classfication "
   ]
  },
  {
   "attachments": {},
   "cell_type": "markdown",
   "metadata": {},
   "source": [
    "## Importing libraries"
   ]
  },
  {
   "cell_type": "code",
   "execution_count": 25,
   "metadata": {},
   "outputs": [],
   "source": [
    "import pandas as pd\n",
    "import numpy as np\n",
    "\n",
    "from sklearn.preprocessing import LabelEncoder\n",
    "\n",
    "import nltk\n",
    "from sklearn.model_selection import train_test_split\n",
    "from sklearn.naive_bayes import MultinomialNB\n",
    "from sklearn.metrics import accuracy_score\n",
    "from sklearn.feature_extraction.text import CountVectorizer\n",
    "from sklearn.naive_bayes import BernoulliNB\n",
    "from sklearn.naive_bayes import GaussianNB\n",
    "import seaborn as sns\n",
    "from matplotlib import pyplot as plt\n",
    "from sklearn.metrics import confusion_matrix\n",
    "import re\n",
    "import time\n",
    "import fasttext\n",
    "from nltk.corpus import stopwords\n",
    "from nltk.stem import PorterStemmer\n",
    "from sklearn.feature_extraction.text import TfidfVectorizer\n",
    "from nltk.stem import WordNetLemmatizer\n",
    "\n",
    "import tensorflow as tf\n",
    "from tensorflow.keras.models import Sequential\n",
    "from tensorflow.keras.layers import Dense, Dropout, LSTM, Embedding, Bidirectional, Reshape\n",
    "from tensorflow.keras.callbacks import EarlyStopping\n",
    "\n",
    "# import ReshapeLayer\n",
    "from tensorflow.keras.layers import Layer\n",
    "\n",
    "%matplotlib inline "
   ]
  },
  {
   "attachments": {},
   "cell_type": "markdown",
   "metadata": {},
   "source": [
    "## Dataset Location"
   ]
  },
  {
   "cell_type": "code",
   "execution_count": 26,
   "metadata": {},
   "outputs": [],
   "source": [
    "dataset = '../data/spam - spam.csv'"
   ]
  },
  {
   "attachments": {},
   "cell_type": "markdown",
   "metadata": {},
   "source": [
    "## Convert to dataframe"
   ]
  },
  {
   "cell_type": "code",
   "execution_count": 27,
   "metadata": {},
   "outputs": [
    {
     "data": {
      "text/html": [
       "<div>\n",
       "<style scoped>\n",
       "    .dataframe tbody tr th:only-of-type {\n",
       "        vertical-align: middle;\n",
       "    }\n",
       "\n",
       "    .dataframe tbody tr th {\n",
       "        vertical-align: top;\n",
       "    }\n",
       "\n",
       "    .dataframe thead th {\n",
       "        text-align: right;\n",
       "    }\n",
       "</style>\n",
       "<table border=\"1\" class=\"dataframe\">\n",
       "  <thead>\n",
       "    <tr style=\"text-align: right;\">\n",
       "      <th></th>\n",
       "      <th>v1</th>\n",
       "      <th>v2</th>\n",
       "      <th>Unnamed: 2</th>\n",
       "      <th>Unnamed: 3</th>\n",
       "      <th>Unnamed: 4</th>\n",
       "    </tr>\n",
       "  </thead>\n",
       "  <tbody>\n",
       "    <tr>\n",
       "      <th>0</th>\n",
       "      <td>ham</td>\n",
       "      <td>Go until jurong point, crazy.. Available only ...</td>\n",
       "      <td>NaN</td>\n",
       "      <td>NaN</td>\n",
       "      <td>NaN</td>\n",
       "    </tr>\n",
       "    <tr>\n",
       "      <th>1</th>\n",
       "      <td>ham</td>\n",
       "      <td>Ok lar... Joking wif u oni...</td>\n",
       "      <td>NaN</td>\n",
       "      <td>NaN</td>\n",
       "      <td>NaN</td>\n",
       "    </tr>\n",
       "    <tr>\n",
       "      <th>2</th>\n",
       "      <td>spam</td>\n",
       "      <td>Free entry in 2 a wkly comp to win FA Cup fina...</td>\n",
       "      <td>NaN</td>\n",
       "      <td>NaN</td>\n",
       "      <td>NaN</td>\n",
       "    </tr>\n",
       "    <tr>\n",
       "      <th>3</th>\n",
       "      <td>ham</td>\n",
       "      <td>U dun say so early hor... U c already then say...</td>\n",
       "      <td>NaN</td>\n",
       "      <td>NaN</td>\n",
       "      <td>NaN</td>\n",
       "    </tr>\n",
       "    <tr>\n",
       "      <th>4</th>\n",
       "      <td>ham</td>\n",
       "      <td>Nah I don't think he goes to usf, he lives aro...</td>\n",
       "      <td>NaN</td>\n",
       "      <td>NaN</td>\n",
       "      <td>NaN</td>\n",
       "    </tr>\n",
       "  </tbody>\n",
       "</table>\n",
       "</div>"
      ],
      "text/plain": [
       "     v1                                                 v2 Unnamed: 2   \n",
       "0   ham  Go until jurong point, crazy.. Available only ...        NaN  \\\n",
       "1   ham                      Ok lar... Joking wif u oni...        NaN   \n",
       "2  spam  Free entry in 2 a wkly comp to win FA Cup fina...        NaN   \n",
       "3   ham  U dun say so early hor... U c already then say...        NaN   \n",
       "4   ham  Nah I don't think he goes to usf, he lives aro...        NaN   \n",
       "\n",
       "  Unnamed: 3 Unnamed: 4  \n",
       "0        NaN        NaN  \n",
       "1        NaN        NaN  \n",
       "2        NaN        NaN  \n",
       "3        NaN        NaN  \n",
       "4        NaN        NaN  "
      ]
     },
     "execution_count": 27,
     "metadata": {},
     "output_type": "execute_result"
    }
   ],
   "source": [
    "df = pd.read_csv(dataset)\n",
    "df.head()"
   ]
  },
  {
   "attachments": {},
   "cell_type": "markdown",
   "metadata": {},
   "source": [
    "# Replacing Column names"
   ]
  },
  {
   "cell_type": "code",
   "execution_count": 28,
   "metadata": {},
   "outputs": [
    {
     "data": {
      "text/html": [
       "<div>\n",
       "<style scoped>\n",
       "    .dataframe tbody tr th:only-of-type {\n",
       "        vertical-align: middle;\n",
       "    }\n",
       "\n",
       "    .dataframe tbody tr th {\n",
       "        vertical-align: top;\n",
       "    }\n",
       "\n",
       "    .dataframe thead th {\n",
       "        text-align: right;\n",
       "    }\n",
       "</style>\n",
       "<table border=\"1\" class=\"dataframe\">\n",
       "  <thead>\n",
       "    <tr style=\"text-align: right;\">\n",
       "      <th></th>\n",
       "      <th>target</th>\n",
       "      <th>message</th>\n",
       "    </tr>\n",
       "  </thead>\n",
       "  <tbody>\n",
       "    <tr>\n",
       "      <th>0</th>\n",
       "      <td>ham</td>\n",
       "      <td>Go until jurong point, crazy.. Available only ...</td>\n",
       "    </tr>\n",
       "    <tr>\n",
       "      <th>1</th>\n",
       "      <td>ham</td>\n",
       "      <td>Ok lar... Joking wif u oni...</td>\n",
       "    </tr>\n",
       "    <tr>\n",
       "      <th>2</th>\n",
       "      <td>spam</td>\n",
       "      <td>Free entry in 2 a wkly comp to win FA Cup fina...</td>\n",
       "    </tr>\n",
       "    <tr>\n",
       "      <th>3</th>\n",
       "      <td>ham</td>\n",
       "      <td>U dun say so early hor... U c already then say...</td>\n",
       "    </tr>\n",
       "    <tr>\n",
       "      <th>4</th>\n",
       "      <td>ham</td>\n",
       "      <td>Nah I don't think he goes to usf, he lives aro...</td>\n",
       "    </tr>\n",
       "  </tbody>\n",
       "</table>\n",
       "</div>"
      ],
      "text/plain": [
       "  target                                            message\n",
       "0    ham  Go until jurong point, crazy.. Available only ...\n",
       "1    ham                      Ok lar... Joking wif u oni...\n",
       "2   spam  Free entry in 2 a wkly comp to win FA Cup fina...\n",
       "3    ham  U dun say so early hor... U c already then say...\n",
       "4    ham  Nah I don't think he goes to usf, he lives aro..."
      ]
     },
     "execution_count": 28,
     "metadata": {},
     "output_type": "execute_result"
    }
   ],
   "source": [
    "df.drop(['Unnamed: 2', 'Unnamed: 3', 'Unnamed: 4'], axis=1, inplace=True)\n",
    "df = df.rename(columns={'v1': 'target', 'v2': 'message'})\n",
    "df.head()"
   ]
  },
  {
   "attachments": {},
   "cell_type": "markdown",
   "metadata": {},
   "source": [
    "# Duplicate removal"
   ]
  },
  {
   "cell_type": "code",
   "execution_count": 29,
   "metadata": {},
   "outputs": [
    {
     "name": "stdout",
     "output_type": "stream",
     "text": [
      "Number of duplicated rows are 409\n",
      "The shape of the dataset is (5572, 2)\n"
     ]
    },
    {
     "data": {
      "text/html": [
       "<div>\n",
       "<style scoped>\n",
       "    .dataframe tbody tr th:only-of-type {\n",
       "        vertical-align: middle;\n",
       "    }\n",
       "\n",
       "    .dataframe tbody tr th {\n",
       "        vertical-align: top;\n",
       "    }\n",
       "\n",
       "    .dataframe thead th {\n",
       "        text-align: right;\n",
       "    }\n",
       "</style>\n",
       "<table border=\"1\" class=\"dataframe\">\n",
       "  <thead>\n",
       "    <tr style=\"text-align: right;\">\n",
       "      <th></th>\n",
       "      <th>target</th>\n",
       "      <th>message</th>\n",
       "    </tr>\n",
       "  </thead>\n",
       "  <tbody>\n",
       "    <tr>\n",
       "      <th>102</th>\n",
       "      <td>ham</td>\n",
       "      <td>As per your request 'Melle Melle (Oru Minnamin...</td>\n",
       "    </tr>\n",
       "    <tr>\n",
       "      <th>153</th>\n",
       "      <td>ham</td>\n",
       "      <td>As per your request 'Melle Melle (Oru Minnamin...</td>\n",
       "    </tr>\n",
       "    <tr>\n",
       "      <th>206</th>\n",
       "      <td>ham</td>\n",
       "      <td>As I entered my cabin my PA said, '' Happy B'd...</td>\n",
       "    </tr>\n",
       "    <tr>\n",
       "      <th>222</th>\n",
       "      <td>ham</td>\n",
       "      <td>Sorry, I'll call later</td>\n",
       "    </tr>\n",
       "    <tr>\n",
       "      <th>325</th>\n",
       "      <td>ham</td>\n",
       "      <td>No calls..messages..missed calls</td>\n",
       "    </tr>\n",
       "    <tr>\n",
       "      <th>...</th>\n",
       "      <td>...</td>\n",
       "      <td>...</td>\n",
       "    </tr>\n",
       "    <tr>\n",
       "      <th>5524</th>\n",
       "      <td>spam</td>\n",
       "      <td>You are awarded a SiPix Digital Camera! call 0...</td>\n",
       "    </tr>\n",
       "    <tr>\n",
       "      <th>5535</th>\n",
       "      <td>ham</td>\n",
       "      <td>I know you are thinkin malaria. But relax, chi...</td>\n",
       "    </tr>\n",
       "    <tr>\n",
       "      <th>5539</th>\n",
       "      <td>ham</td>\n",
       "      <td>Just sleeping..and surfing</td>\n",
       "    </tr>\n",
       "    <tr>\n",
       "      <th>5553</th>\n",
       "      <td>ham</td>\n",
       "      <td>Hahaha..use your brain dear</td>\n",
       "    </tr>\n",
       "    <tr>\n",
       "      <th>5558</th>\n",
       "      <td>ham</td>\n",
       "      <td>Sorry, I'll call later</td>\n",
       "    </tr>\n",
       "  </tbody>\n",
       "</table>\n",
       "<p>409 rows × 2 columns</p>\n",
       "</div>"
      ],
      "text/plain": [
       "     target                                            message\n",
       "102     ham  As per your request 'Melle Melle (Oru Minnamin...\n",
       "153     ham  As per your request 'Melle Melle (Oru Minnamin...\n",
       "206     ham  As I entered my cabin my PA said, '' Happy B'd...\n",
       "222     ham                             Sorry, I'll call later\n",
       "325     ham                   No calls..messages..missed calls\n",
       "...     ...                                                ...\n",
       "5524   spam  You are awarded a SiPix Digital Camera! call 0...\n",
       "5535    ham  I know you are thinkin malaria. But relax, chi...\n",
       "5539    ham                         Just sleeping..and surfing\n",
       "5553    ham                        Hahaha..use your brain dear\n",
       "5558    ham                             Sorry, I'll call later\n",
       "\n",
       "[409 rows x 2 columns]"
      ]
     },
     "execution_count": 29,
     "metadata": {},
     "output_type": "execute_result"
    }
   ],
   "source": [
    "print(f'Number of duplicated rows are', df.duplicated().sum())\n",
    "print(f'The shape of the dataset is', df.shape)\n",
    "df[df.duplicated()]\n"
   ]
  },
  {
   "cell_type": "code",
   "execution_count": 30,
   "metadata": {},
   "outputs": [
    {
     "name": "stdout",
     "output_type": "stream",
     "text": [
      "The shape of the dataset after removing duplicate is  (5163, 2)\n"
     ]
    }
   ],
   "source": [
    "df.drop_duplicates(inplace=True)\n",
    "print(f'The shape of the dataset after removing duplicate is ', df.shape)"
   ]
  },
  {
   "attachments": {},
   "cell_type": "markdown",
   "metadata": {},
   "source": [
    "## Text Preprocessing\n",
    "- Removing Stopwords\n",
    "- Removing Punctuations"
   ]
  },
  {
   "cell_type": "code",
   "execution_count": 31,
   "metadata": {},
   "outputs": [
    {
     "data": {
      "text/html": [
       "<div>\n",
       "<style scoped>\n",
       "    .dataframe tbody tr th:only-of-type {\n",
       "        vertical-align: middle;\n",
       "    }\n",
       "\n",
       "    .dataframe tbody tr th {\n",
       "        vertical-align: top;\n",
       "    }\n",
       "\n",
       "    .dataframe thead th {\n",
       "        text-align: right;\n",
       "    }\n",
       "</style>\n",
       "<table border=\"1\" class=\"dataframe\">\n",
       "  <thead>\n",
       "    <tr style=\"text-align: right;\">\n",
       "      <th></th>\n",
       "      <th>target</th>\n",
       "      <th>message</th>\n",
       "    </tr>\n",
       "  </thead>\n",
       "  <tbody>\n",
       "    <tr>\n",
       "      <th>0</th>\n",
       "      <td>ham</td>\n",
       "      <td>go until jurong point  crazy   available only ...</td>\n",
       "    </tr>\n",
       "    <tr>\n",
       "      <th>1</th>\n",
       "      <td>ham</td>\n",
       "      <td>ok lar    joking wif u oni</td>\n",
       "    </tr>\n",
       "    <tr>\n",
       "      <th>2</th>\n",
       "      <td>spam</td>\n",
       "      <td>free entry in   a wkly comp to win fa cup fina...</td>\n",
       "    </tr>\n",
       "    <tr>\n",
       "      <th>3</th>\n",
       "      <td>ham</td>\n",
       "      <td>u dun say so early hor    u c already then say</td>\n",
       "    </tr>\n",
       "    <tr>\n",
       "      <th>4</th>\n",
       "      <td>ham</td>\n",
       "      <td>nah i don t think he goes to usf  he lives aro...</td>\n",
       "    </tr>\n",
       "  </tbody>\n",
       "</table>\n",
       "</div>"
      ],
      "text/plain": [
       "  target                                            message\n",
       "0    ham  go until jurong point  crazy   available only ...\n",
       "1    ham                      ok lar    joking wif u oni   \n",
       "2   spam  free entry in   a wkly comp to win fa cup fina...\n",
       "3    ham  u dun say so early hor    u c already then say   \n",
       "4    ham  nah i don t think he goes to usf  he lives aro..."
      ]
     },
     "execution_count": 31,
     "metadata": {},
     "output_type": "execute_result"
    }
   ],
   "source": [
    "def cleanText(text):\n",
    "    text = re.sub('[^a-zA-Z]', ' ', text)\n",
    "    text = text.lower()\n",
    "    return text    \n",
    "\n",
    "df['message'] = df['message'].apply(cleanText)\n",
    "df.head()"
   ]
  },
  {
   "cell_type": "code",
   "execution_count": 32,
   "metadata": {},
   "outputs": [],
   "source": [
    "df['message'] = df['message'].apply(cleanText)"
   ]
  },
  {
   "attachments": {},
   "cell_type": "markdown",
   "metadata": {},
   "source": [
    "## Embedding"
   ]
  },
  {
   "cell_type": "code",
   "execution_count": 33,
   "metadata": {},
   "outputs": [
    {
     "name": "stderr",
     "output_type": "stream",
     "text": [
      "Warning : `load_model` does not return WordVectorModel or SupervisedModel any more, but a `FastText` object which is very similar.\n"
     ]
    }
   ],
   "source": [
    "model = '../model/lid.bin'\n",
    "model = fasttext.load_model(model)\n",
    "\n",
    "def getEmbedding(Text):\n",
    "    return model.get_sentence_vector(Text)"
   ]
  },
  {
   "cell_type": "code",
   "execution_count": 34,
   "metadata": {},
   "outputs": [],
   "source": [
    "df['embedding'] = df['message'].apply(getEmbedding)"
   ]
  },
  {
   "attachments": {},
   "cell_type": "markdown",
   "metadata": {},
   "source": [
    "## Splitting Dataset"
   ]
  },
  {
   "cell_type": "code",
   "execution_count": 35,
   "metadata": {},
   "outputs": [],
   "source": [
    "X = np.array(df['embedding'].tolist())\n",
    "y = df['target']\n",
    "\n",
    "le = LabelEncoder()\n",
    "y = le.fit_transform(y)\n",
    "\n",
    "X_train, X_test, y_train, y_test = train_test_split(X, y, test_size=0.2, random_state=42)"
   ]
  },
  {
   "attachments": {},
   "cell_type": "markdown",
   "metadata": {},
   "source": [
    "## Deep Learning"
   ]
  },
  {
   "cell_type": "code",
   "execution_count": 36,
   "metadata": {},
   "outputs": [
    {
     "name": "stdout",
     "output_type": "stream",
     "text": [
      "Epoch 1/100\n",
      "130/130 [==============================] - 1s 2ms/step - loss: 0.4464 - accuracy: 0.8705 - val_loss: 0.3374 - val_accuracy: 0.8877\n",
      "Epoch 2/100\n",
      "130/130 [==============================] - 0s 1ms/step - loss: 0.3613 - accuracy: 0.8714 - val_loss: 0.3281 - val_accuracy: 0.8877\n",
      "Epoch 3/100\n",
      "130/130 [==============================] - 0s 1ms/step - loss: 0.3467 - accuracy: 0.8714 - val_loss: 0.3157 - val_accuracy: 0.8877\n",
      "Epoch 4/100\n",
      "130/130 [==============================] - 0s 1ms/step - loss: 0.3297 - accuracy: 0.8714 - val_loss: 0.2992 - val_accuracy: 0.8877\n",
      "Epoch 5/100\n",
      "130/130 [==============================] - 0s 1ms/step - loss: 0.3151 - accuracy: 0.8714 - val_loss: 0.2884 - val_accuracy: 0.8877\n",
      "Epoch 6/100\n",
      "130/130 [==============================] - 0s 1ms/step - loss: 0.3032 - accuracy: 0.8714 - val_loss: 0.2774 - val_accuracy: 0.8877\n",
      "Epoch 7/100\n",
      "130/130 [==============================] - 0s 1ms/step - loss: 0.2945 - accuracy: 0.8714 - val_loss: 0.2694 - val_accuracy: 0.8877\n",
      "Epoch 8/100\n",
      "130/130 [==============================] - 0s 2ms/step - loss: 0.2870 - accuracy: 0.8714 - val_loss: 0.2669 - val_accuracy: 0.8877\n",
      "Epoch 9/100\n",
      "130/130 [==============================] - 0s 1ms/step - loss: 0.2801 - accuracy: 0.8714 - val_loss: 0.2595 - val_accuracy: 0.8877\n",
      "Epoch 10/100\n",
      "130/130 [==============================] - 0s 2ms/step - loss: 0.2779 - accuracy: 0.8714 - val_loss: 0.2545 - val_accuracy: 0.8867\n",
      "Epoch 11/100\n",
      "130/130 [==============================] - 0s 2ms/step - loss: 0.2720 - accuracy: 0.8738 - val_loss: 0.2487 - val_accuracy: 0.8877\n",
      "Epoch 12/100\n",
      "130/130 [==============================] - 0s 2ms/step - loss: 0.2676 - accuracy: 0.8760 - val_loss: 0.2472 - val_accuracy: 0.8916\n",
      "Epoch 13/100\n",
      "130/130 [==============================] - 0s 2ms/step - loss: 0.2644 - accuracy: 0.8818 - val_loss: 0.2427 - val_accuracy: 0.8887\n",
      "Epoch 14/100\n",
      "130/130 [==============================] - 0s 2ms/step - loss: 0.2630 - accuracy: 0.8797 - val_loss: 0.2393 - val_accuracy: 0.8906\n",
      "Epoch 15/100\n",
      "130/130 [==============================] - 0s 2ms/step - loss: 0.2603 - accuracy: 0.8840 - val_loss: 0.2364 - val_accuracy: 0.8906\n",
      "Epoch 16/100\n",
      "130/130 [==============================] - 0s 1ms/step - loss: 0.2568 - accuracy: 0.8850 - val_loss: 0.2353 - val_accuracy: 0.9003\n",
      "Epoch 17/100\n",
      "130/130 [==============================] - 0s 2ms/step - loss: 0.2540 - accuracy: 0.8857 - val_loss: 0.2350 - val_accuracy: 0.8945\n",
      "Epoch 18/100\n",
      "130/130 [==============================] - 0s 2ms/step - loss: 0.2512 - accuracy: 0.8847 - val_loss: 0.2323 - val_accuracy: 0.8984\n",
      "Epoch 19/100\n",
      "130/130 [==============================] - 0s 2ms/step - loss: 0.2503 - accuracy: 0.8901 - val_loss: 0.2301 - val_accuracy: 0.8955\n",
      "Epoch 20/100\n",
      "130/130 [==============================] - 0s 1ms/step - loss: 0.2470 - accuracy: 0.8908 - val_loss: 0.2283 - val_accuracy: 0.8974\n",
      "Epoch 21/100\n",
      "130/130 [==============================] - 0s 1ms/step - loss: 0.2457 - accuracy: 0.8923 - val_loss: 0.2259 - val_accuracy: 0.8974\n",
      "Epoch 22/100\n",
      "130/130 [==============================] - 0s 1ms/step - loss: 0.2457 - accuracy: 0.8939 - val_loss: 0.2268 - val_accuracy: 0.8955\n",
      "Epoch 23/100\n",
      "130/130 [==============================] - 0s 2ms/step - loss: 0.2417 - accuracy: 0.8959 - val_loss: 0.2315 - val_accuracy: 0.8993\n",
      "Epoch 24/100\n",
      "130/130 [==============================] - 0s 2ms/step - loss: 0.2409 - accuracy: 0.8956 - val_loss: 0.2221 - val_accuracy: 0.9003\n",
      "Epoch 25/100\n",
      "130/130 [==============================] - 0s 2ms/step - loss: 0.2411 - accuracy: 0.8952 - val_loss: 0.2227 - val_accuracy: 0.9051\n",
      "Epoch 26/100\n",
      "130/130 [==============================] - 0s 1ms/step - loss: 0.2375 - accuracy: 0.8978 - val_loss: 0.2214 - val_accuracy: 0.9003\n",
      "Epoch 27/100\n",
      "130/130 [==============================] - 0s 1ms/step - loss: 0.2362 - accuracy: 0.9029 - val_loss: 0.2251 - val_accuracy: 0.8984\n",
      "Epoch 28/100\n",
      "130/130 [==============================] - 0s 2ms/step - loss: 0.2369 - accuracy: 0.8964 - val_loss: 0.2200 - val_accuracy: 0.9003\n",
      "Epoch 29/100\n",
      "130/130 [==============================] - 0s 2ms/step - loss: 0.2331 - accuracy: 0.9010 - val_loss: 0.2243 - val_accuracy: 0.8993\n",
      "Epoch 30/100\n",
      "130/130 [==============================] - 0s 2ms/step - loss: 0.2340 - accuracy: 0.9012 - val_loss: 0.2188 - val_accuracy: 0.9022\n",
      "Epoch 31/100\n",
      "130/130 [==============================] - 0s 2ms/step - loss: 0.2318 - accuracy: 0.9019 - val_loss: 0.2183 - val_accuracy: 0.9013\n",
      "Epoch 32/100\n",
      "130/130 [==============================] - 0s 2ms/step - loss: 0.2306 - accuracy: 0.9027 - val_loss: 0.2189 - val_accuracy: 0.8993\n",
      "Epoch 33/100\n",
      "130/130 [==============================] - 0s 2ms/step - loss: 0.2292 - accuracy: 0.9034 - val_loss: 0.2203 - val_accuracy: 0.9003\n",
      "Epoch 34/100\n",
      "130/130 [==============================] - 0s 2ms/step - loss: 0.2293 - accuracy: 0.9017 - val_loss: 0.2196 - val_accuracy: 0.8993\n",
      "33/33 [==============================] - 0s 785us/step\n",
      "Accuracy score is 0.8993223620522749\n"
     ]
    }
   ],
   "source": [
    "model = Sequential()\n",
    "model.add(Dense(32, input_dim=16, activation='relu'))\n",
    "model.add(Dense(16, activation='relu'))\n",
    "model.add(Dense(1, activation='sigmoid'))\n",
    "\n",
    "model.compile(loss='binary_crossentropy', optimizer='adam', metrics=['accuracy'])\n",
    "model.fit(X_train, y_train, epochs=100, batch_size=32, validation_data=(X_test, y_test), callbacks=[EarlyStopping(monitor='val_loss', patience=3, min_delta=0.0001)])\n",
    "\n",
    "y_pred = model.predict(X_test)\n",
    "y_pred = np.round(y_pred).astype(int)\n",
    "\n",
    "print(f'Accuracy score is {accuracy_score(y_test, y_pred)}')"
   ]
  },
  {
   "cell_type": "code",
   "execution_count": 37,
   "metadata": {},
   "outputs": [
    {
     "name": "stderr",
     "output_type": "stream",
     "text": [
      "2023-05-29 04:02:09.047973: I tensorflow/core/common_runtime/executor.cc:1197] [/device:CPU:0] (DEBUG INFO) Executor start aborting (this does not indicate an error and you can ignore this message): INVALID_ARGUMENT: You must feed a value for placeholder tensor 'gradients/split_2_grad/concat/split_2/split_dim' with dtype int32\n",
      "\t [[{{node gradients/split_2_grad/concat/split_2/split_dim}}]]\n",
      "2023-05-29 04:02:09.049187: I tensorflow/core/common_runtime/executor.cc:1197] [/device:CPU:0] (DEBUG INFO) Executor start aborting (this does not indicate an error and you can ignore this message): INVALID_ARGUMENT: You must feed a value for placeholder tensor 'gradients/split_grad/concat/split/split_dim' with dtype int32\n",
      "\t [[{{node gradients/split_grad/concat/split/split_dim}}]]\n",
      "2023-05-29 04:02:09.050117: I tensorflow/core/common_runtime/executor.cc:1197] [/device:CPU:0] (DEBUG INFO) Executor start aborting (this does not indicate an error and you can ignore this message): INVALID_ARGUMENT: You must feed a value for placeholder tensor 'gradients/split_1_grad/concat/split_1/split_dim' with dtype int32\n",
      "\t [[{{node gradients/split_1_grad/concat/split_1/split_dim}}]]\n"
     ]
    },
    {
     "name": "stdout",
     "output_type": "stream",
     "text": [
      "Epoch 1/100\n"
     ]
    },
    {
     "name": "stderr",
     "output_type": "stream",
     "text": [
      "2023-05-29 04:02:09.253966: I tensorflow/core/common_runtime/executor.cc:1197] [/device:CPU:0] (DEBUG INFO) Executor start aborting (this does not indicate an error and you can ignore this message): INVALID_ARGUMENT: You must feed a value for placeholder tensor 'gradients/split_2_grad/concat/split_2/split_dim' with dtype int32\n",
      "\t [[{{node gradients/split_2_grad/concat/split_2/split_dim}}]]\n",
      "2023-05-29 04:02:09.255699: I tensorflow/core/common_runtime/executor.cc:1197] [/device:CPU:0] (DEBUG INFO) Executor start aborting (this does not indicate an error and you can ignore this message): INVALID_ARGUMENT: You must feed a value for placeholder tensor 'gradients/split_grad/concat/split/split_dim' with dtype int32\n",
      "\t [[{{node gradients/split_grad/concat/split/split_dim}}]]\n",
      "2023-05-29 04:02:09.256640: I tensorflow/core/common_runtime/executor.cc:1197] [/device:CPU:0] (DEBUG INFO) Executor start aborting (this does not indicate an error and you can ignore this message): INVALID_ARGUMENT: You must feed a value for placeholder tensor 'gradients/split_1_grad/concat/split_1/split_dim' with dtype int32\n",
      "\t [[{{node gradients/split_1_grad/concat/split_1/split_dim}}]]\n",
      "2023-05-29 04:02:09.565256: I tensorflow/core/common_runtime/executor.cc:1197] [/device:CPU:0] (DEBUG INFO) Executor start aborting (this does not indicate an error and you can ignore this message): INVALID_ARGUMENT: You must feed a value for placeholder tensor 'gradients/split_2_grad/concat/split_2/split_dim' with dtype int32\n",
      "\t [[{{node gradients/split_2_grad/concat/split_2/split_dim}}]]\n",
      "2023-05-29 04:02:09.566792: I tensorflow/core/common_runtime/executor.cc:1197] [/device:CPU:0] (DEBUG INFO) Executor start aborting (this does not indicate an error and you can ignore this message): INVALID_ARGUMENT: You must feed a value for placeholder tensor 'gradients/split_grad/concat/split/split_dim' with dtype int32\n",
      "\t [[{{node gradients/split_grad/concat/split/split_dim}}]]\n",
      "2023-05-29 04:02:09.568085: I tensorflow/core/common_runtime/executor.cc:1197] [/device:CPU:0] (DEBUG INFO) Executor start aborting (this does not indicate an error and you can ignore this message): INVALID_ARGUMENT: You must feed a value for placeholder tensor 'gradients/split_1_grad/concat/split_1/split_dim' with dtype int32\n",
      "\t [[{{node gradients/split_1_grad/concat/split_1/split_dim}}]]\n",
      "2023-05-29 04:02:09.761230: I tensorflow/core/common_runtime/executor.cc:1197] [/device:CPU:0] (DEBUG INFO) Executor start aborting (this does not indicate an error and you can ignore this message): INVALID_ARGUMENT: You must feed a value for placeholder tensor 'gradients/split_2_grad/concat/split_2/split_dim' with dtype int32\n",
      "\t [[{{node gradients/split_2_grad/concat/split_2/split_dim}}]]\n",
      "2023-05-29 04:02:09.762441: I tensorflow/core/common_runtime/executor.cc:1197] [/device:CPU:0] (DEBUG INFO) Executor start aborting (this does not indicate an error and you can ignore this message): INVALID_ARGUMENT: You must feed a value for placeholder tensor 'gradients/split_grad/concat/split/split_dim' with dtype int32\n",
      "\t [[{{node gradients/split_grad/concat/split/split_dim}}]]\n",
      "2023-05-29 04:02:09.763360: I tensorflow/core/common_runtime/executor.cc:1197] [/device:CPU:0] (DEBUG INFO) Executor start aborting (this does not indicate an error and you can ignore this message): INVALID_ARGUMENT: You must feed a value for placeholder tensor 'gradients/split_1_grad/concat/split_1/split_dim' with dtype int32\n",
      "\t [[{{node gradients/split_1_grad/concat/split_1/split_dim}}]]\n",
      "2023-05-29 04:02:10.795826: I tensorflow/core/common_runtime/executor.cc:1197] [/device:CPU:0] (DEBUG INFO) Executor start aborting (this does not indicate an error and you can ignore this message): INVALID_ARGUMENT: You must feed a value for placeholder tensor 'gradients/split_2_grad/concat/split_2/split_dim' with dtype int32\n",
      "\t [[{{node gradients/split_2_grad/concat/split_2/split_dim}}]]\n",
      "2023-05-29 04:02:10.798200: I tensorflow/core/common_runtime/executor.cc:1197] [/device:CPU:0] (DEBUG INFO) Executor start aborting (this does not indicate an error and you can ignore this message): INVALID_ARGUMENT: You must feed a value for placeholder tensor 'gradients/split_grad/concat/split/split_dim' with dtype int32\n",
      "\t [[{{node gradients/split_grad/concat/split/split_dim}}]]\n",
      "2023-05-29 04:02:10.801024: I tensorflow/core/common_runtime/executor.cc:1197] [/device:CPU:0] (DEBUG INFO) Executor start aborting (this does not indicate an error and you can ignore this message): INVALID_ARGUMENT: You must feed a value for placeholder tensor 'gradients/split_1_grad/concat/split_1/split_dim' with dtype int32\n",
      "\t [[{{node gradients/split_1_grad/concat/split_1/split_dim}}]]\n",
      "2023-05-29 04:02:11.143826: I tensorflow/core/common_runtime/executor.cc:1197] [/device:CPU:0] (DEBUG INFO) Executor start aborting (this does not indicate an error and you can ignore this message): INVALID_ARGUMENT: You must feed a value for placeholder tensor 'gradients/split_2_grad/concat/split_2/split_dim' with dtype int32\n",
      "\t [[{{node gradients/split_2_grad/concat/split_2/split_dim}}]]\n",
      "2023-05-29 04:02:11.145798: I tensorflow/core/common_runtime/executor.cc:1197] [/device:CPU:0] (DEBUG INFO) Executor start aborting (this does not indicate an error and you can ignore this message): INVALID_ARGUMENT: You must feed a value for placeholder tensor 'gradients/split_grad/concat/split/split_dim' with dtype int32\n",
      "\t [[{{node gradients/split_grad/concat/split/split_dim}}]]\n",
      "2023-05-29 04:02:11.147320: I tensorflow/core/common_runtime/executor.cc:1197] [/device:CPU:0] (DEBUG INFO) Executor start aborting (this does not indicate an error and you can ignore this message): INVALID_ARGUMENT: You must feed a value for placeholder tensor 'gradients/split_1_grad/concat/split_1/split_dim' with dtype int32\n",
      "\t [[{{node gradients/split_1_grad/concat/split_1/split_dim}}]]\n"
     ]
    },
    {
     "name": "stdout",
     "output_type": "stream",
     "text": [
      "126/130 [============================>.] - ETA: 0s - loss: 0.5328 - accuracy: 0.8718"
     ]
    },
    {
     "name": "stderr",
     "output_type": "stream",
     "text": [
      "2023-05-29 04:02:14.767773: I tensorflow/core/common_runtime/executor.cc:1197] [/device:CPU:0] (DEBUG INFO) Executor start aborting (this does not indicate an error and you can ignore this message): INVALID_ARGUMENT: You must feed a value for placeholder tensor 'gradients/split_2_grad/concat/split_2/split_dim' with dtype int32\n",
      "\t [[{{node gradients/split_2_grad/concat/split_2/split_dim}}]]\n",
      "2023-05-29 04:02:14.770953: I tensorflow/core/common_runtime/executor.cc:1197] [/device:CPU:0] (DEBUG INFO) Executor start aborting (this does not indicate an error and you can ignore this message): INVALID_ARGUMENT: You must feed a value for placeholder tensor 'gradients/split_grad/concat/split/split_dim' with dtype int32\n",
      "\t [[{{node gradients/split_grad/concat/split/split_dim}}]]\n",
      "2023-05-29 04:02:14.773827: I tensorflow/core/common_runtime/executor.cc:1197] [/device:CPU:0] (DEBUG INFO) Executor start aborting (this does not indicate an error and you can ignore this message): INVALID_ARGUMENT: You must feed a value for placeholder tensor 'gradients/split_1_grad/concat/split_1/split_dim' with dtype int32\n",
      "\t [[{{node gradients/split_1_grad/concat/split_1/split_dim}}]]\n",
      "2023-05-29 04:02:15.115615: I tensorflow/core/common_runtime/executor.cc:1197] [/device:CPU:0] (DEBUG INFO) Executor start aborting (this does not indicate an error and you can ignore this message): INVALID_ARGUMENT: You must feed a value for placeholder tensor 'gradients/split_2_grad/concat/split_2/split_dim' with dtype int32\n",
      "\t [[{{node gradients/split_2_grad/concat/split_2/split_dim}}]]\n",
      "2023-05-29 04:02:15.118029: I tensorflow/core/common_runtime/executor.cc:1197] [/device:CPU:0] (DEBUG INFO) Executor start aborting (this does not indicate an error and you can ignore this message): INVALID_ARGUMENT: You must feed a value for placeholder tensor 'gradients/split_grad/concat/split/split_dim' with dtype int32\n",
      "\t [[{{node gradients/split_grad/concat/split/split_dim}}]]\n",
      "2023-05-29 04:02:15.120716: I tensorflow/core/common_runtime/executor.cc:1197] [/device:CPU:0] (DEBUG INFO) Executor start aborting (this does not indicate an error and you can ignore this message): INVALID_ARGUMENT: You must feed a value for placeholder tensor 'gradients/split_1_grad/concat/split_1/split_dim' with dtype int32\n",
      "\t [[{{node gradients/split_1_grad/concat/split_1/split_dim}}]]\n"
     ]
    },
    {
     "name": "stdout",
     "output_type": "stream",
     "text": [
      "130/130 [==============================] - 7s 16ms/step - loss: 0.5299 - accuracy: 0.8714 - val_loss: 0.3480 - val_accuracy: 0.8877\n",
      "Epoch 2/100\n",
      "130/130 [==============================] - 1s 6ms/step - loss: 0.3751 - accuracy: 0.8714 - val_loss: 0.3447 - val_accuracy: 0.8877\n",
      "Epoch 3/100\n",
      "130/130 [==============================] - 1s 5ms/step - loss: 0.3695 - accuracy: 0.8714 - val_loss: 0.3425 - val_accuracy: 0.8877\n",
      "Epoch 4/100\n",
      "130/130 [==============================] - 1s 5ms/step - loss: 0.3609 - accuracy: 0.8714 - val_loss: 0.3317 - val_accuracy: 0.8877\n",
      "Epoch 5/100\n",
      "130/130 [==============================] - 1s 4ms/step - loss: 0.3461 - accuracy: 0.8714 - val_loss: 0.3163 - val_accuracy: 0.8877\n",
      "Epoch 6/100\n",
      "130/130 [==============================] - 1s 4ms/step - loss: 0.3285 - accuracy: 0.8714 - val_loss: 0.2993 - val_accuracy: 0.8877\n",
      "Epoch 7/100\n",
      "130/130 [==============================] - 1s 5ms/step - loss: 0.3133 - accuracy: 0.8714 - val_loss: 0.2855 - val_accuracy: 0.8877\n",
      "Epoch 8/100\n",
      "130/130 [==============================] - 1s 5ms/step - loss: 0.3038 - accuracy: 0.8714 - val_loss: 0.2756 - val_accuracy: 0.8877\n",
      "Epoch 9/100\n",
      "130/130 [==============================] - 1s 4ms/step - loss: 0.2951 - accuracy: 0.8717 - val_loss: 0.2688 - val_accuracy: 0.8877\n",
      "Epoch 10/100\n",
      "130/130 [==============================] - 1s 5ms/step - loss: 0.2870 - accuracy: 0.8707 - val_loss: 0.2639 - val_accuracy: 0.8829\n",
      "Epoch 11/100\n",
      "130/130 [==============================] - 1s 4ms/step - loss: 0.2811 - accuracy: 0.8734 - val_loss: 0.2566 - val_accuracy: 0.8838\n",
      "Epoch 12/100\n",
      "130/130 [==============================] - 1s 5ms/step - loss: 0.2773 - accuracy: 0.8738 - val_loss: 0.2535 - val_accuracy: 0.8867\n",
      "Epoch 13/100\n",
      "130/130 [==============================] - 1s 5ms/step - loss: 0.2714 - accuracy: 0.8775 - val_loss: 0.2486 - val_accuracy: 0.8877\n",
      "Epoch 14/100\n",
      "130/130 [==============================] - 1s 5ms/step - loss: 0.2693 - accuracy: 0.8826 - val_loss: 0.2464 - val_accuracy: 0.8935\n",
      "Epoch 15/100\n",
      "130/130 [==============================] - 1s 5ms/step - loss: 0.2683 - accuracy: 0.8821 - val_loss: 0.2645 - val_accuracy: 0.8838\n",
      "Epoch 16/100\n",
      "130/130 [==============================] - 1s 5ms/step - loss: 0.2651 - accuracy: 0.8864 - val_loss: 0.2424 - val_accuracy: 0.8964\n",
      "Epoch 17/100\n",
      "130/130 [==============================] - 1s 5ms/step - loss: 0.2584 - accuracy: 0.8879 - val_loss: 0.2400 - val_accuracy: 0.8945\n",
      "Epoch 18/100\n",
      "130/130 [==============================] - 1s 5ms/step - loss: 0.2597 - accuracy: 0.8862 - val_loss: 0.2381 - val_accuracy: 0.8964\n",
      "Epoch 19/100\n",
      "130/130 [==============================] - 1s 5ms/step - loss: 0.2529 - accuracy: 0.8901 - val_loss: 0.2354 - val_accuracy: 0.8955\n",
      "Epoch 20/100\n",
      "130/130 [==============================] - 1s 5ms/step - loss: 0.2514 - accuracy: 0.8949 - val_loss: 0.2355 - val_accuracy: 0.8887\n",
      "Epoch 21/100\n",
      "130/130 [==============================] - 1s 4ms/step - loss: 0.2493 - accuracy: 0.8944 - val_loss: 0.2488 - val_accuracy: 0.8819\n",
      "Epoch 22/100\n",
      "130/130 [==============================] - 1s 6ms/step - loss: 0.2529 - accuracy: 0.8896 - val_loss: 0.2347 - val_accuracy: 0.8906\n",
      "Epoch 23/100\n",
      "130/130 [==============================] - 1s 7ms/step - loss: 0.2441 - accuracy: 0.8961 - val_loss: 0.2327 - val_accuracy: 0.8916\n",
      "Epoch 24/100\n",
      "130/130 [==============================] - 1s 7ms/step - loss: 0.2424 - accuracy: 0.8949 - val_loss: 0.2281 - val_accuracy: 0.8993\n",
      "Epoch 25/100\n",
      "130/130 [==============================] - 1s 7ms/step - loss: 0.2417 - accuracy: 0.8973 - val_loss: 0.2368 - val_accuracy: 0.8974\n",
      "Epoch 26/100\n",
      "130/130 [==============================] - 1s 6ms/step - loss: 0.2409 - accuracy: 0.8985 - val_loss: 0.2269 - val_accuracy: 0.8955\n",
      "Epoch 27/100\n",
      "130/130 [==============================] - 1s 5ms/step - loss: 0.2374 - accuracy: 0.9000 - val_loss: 0.2280 - val_accuracy: 0.8925\n",
      "Epoch 28/100\n",
      "130/130 [==============================] - 1s 5ms/step - loss: 0.2359 - accuracy: 0.8998 - val_loss: 0.2265 - val_accuracy: 0.8945\n",
      "Epoch 29/100\n",
      "130/130 [==============================] - 1s 5ms/step - loss: 0.2381 - accuracy: 0.9005 - val_loss: 0.2253 - val_accuracy: 0.8955\n",
      "Epoch 30/100\n",
      "130/130 [==============================] - 1s 5ms/step - loss: 0.2378 - accuracy: 0.9002 - val_loss: 0.2254 - val_accuracy: 0.8974\n",
      "Epoch 31/100\n",
      "130/130 [==============================] - 1s 5ms/step - loss: 0.2349 - accuracy: 0.8998 - val_loss: 0.2246 - val_accuracy: 0.8993\n",
      "Epoch 32/100\n",
      "130/130 [==============================] - 1s 6ms/step - loss: 0.2341 - accuracy: 0.9007 - val_loss: 0.2286 - val_accuracy: 0.8916\n",
      "Epoch 33/100\n",
      "130/130 [==============================] - 1s 6ms/step - loss: 0.2341 - accuracy: 0.8956 - val_loss: 0.2230 - val_accuracy: 0.8984\n",
      "Epoch 34/100\n",
      "130/130 [==============================] - 1s 6ms/step - loss: 0.2318 - accuracy: 0.9005 - val_loss: 0.2231 - val_accuracy: 0.8964\n",
      "Epoch 35/100\n",
      "130/130 [==============================] - 1s 6ms/step - loss: 0.2306 - accuracy: 0.9031 - val_loss: 0.2272 - val_accuracy: 0.8925\n",
      "Epoch 36/100\n",
      "130/130 [==============================] - 1s 6ms/step - loss: 0.2285 - accuracy: 0.9012 - val_loss: 0.2250 - val_accuracy: 0.9003\n"
     ]
    },
    {
     "name": "stderr",
     "output_type": "stream",
     "text": [
      "2023-05-29 04:02:40.497540: I tensorflow/core/common_runtime/executor.cc:1197] [/device:CPU:0] (DEBUG INFO) Executor start aborting (this does not indicate an error and you can ignore this message): INVALID_ARGUMENT: You must feed a value for placeholder tensor 'gradients/split_2_grad/concat/split_2/split_dim' with dtype int32\n",
      "\t [[{{node gradients/split_2_grad/concat/split_2/split_dim}}]]\n",
      "2023-05-29 04:02:40.499796: I tensorflow/core/common_runtime/executor.cc:1197] [/device:CPU:0] (DEBUG INFO) Executor start aborting (this does not indicate an error and you can ignore this message): INVALID_ARGUMENT: You must feed a value for placeholder tensor 'gradients/split_grad/concat/split/split_dim' with dtype int32\n",
      "\t [[{{node gradients/split_grad/concat/split/split_dim}}]]\n",
      "2023-05-29 04:02:40.502750: I tensorflow/core/common_runtime/executor.cc:1197] [/device:CPU:0] (DEBUG INFO) Executor start aborting (this does not indicate an error and you can ignore this message): INVALID_ARGUMENT: You must feed a value for placeholder tensor 'gradients/split_1_grad/concat/split_1/split_dim' with dtype int32\n",
      "\t [[{{node gradients/split_1_grad/concat/split_1/split_dim}}]]\n",
      "2023-05-29 04:02:40.850473: I tensorflow/core/common_runtime/executor.cc:1197] [/device:CPU:0] (DEBUG INFO) Executor start aborting (this does not indicate an error and you can ignore this message): INVALID_ARGUMENT: You must feed a value for placeholder tensor 'gradients/split_2_grad/concat/split_2/split_dim' with dtype int32\n",
      "\t [[{{node gradients/split_2_grad/concat/split_2/split_dim}}]]\n",
      "2023-05-29 04:02:40.854229: I tensorflow/core/common_runtime/executor.cc:1197] [/device:CPU:0] (DEBUG INFO) Executor start aborting (this does not indicate an error and you can ignore this message): INVALID_ARGUMENT: You must feed a value for placeholder tensor 'gradients/split_grad/concat/split/split_dim' with dtype int32\n",
      "\t [[{{node gradients/split_grad/concat/split/split_dim}}]]\n",
      "2023-05-29 04:02:40.856697: I tensorflow/core/common_runtime/executor.cc:1197] [/device:CPU:0] (DEBUG INFO) Executor start aborting (this does not indicate an error and you can ignore this message): INVALID_ARGUMENT: You must feed a value for placeholder tensor 'gradients/split_1_grad/concat/split_1/split_dim' with dtype int32\n",
      "\t [[{{node gradients/split_1_grad/concat/split_1/split_dim}}]]\n"
     ]
    },
    {
     "name": "stdout",
     "output_type": "stream",
     "text": [
      "33/33 [==============================] - 1s 2ms/step\n",
      "Accuracy score is 0.9002904162633107\n"
     ]
    }
   ],
   "source": [
    "model = Sequential()\n",
    "model.add(Dense(32, input_dim=16, activation='relu'))\n",
    "model.add(Reshape((1, 32)))\n",
    "model.add(LSTM(16, return_sequences=True))\n",
    "model.add(LSTM(8, return_sequences=False))\n",
    "model.add(Dense(1, activation='sigmoid'))\n",
    "\n",
    "model.compile(loss='binary_crossentropy', optimizer='adam', metrics=['accuracy'])\n",
    "model.fit(X_train, y_train, epochs=100, batch_size=32, validation_data=(X_test, y_test), callbacks=[EarlyStopping(monitor='val_loss', patience=3)])\n",
    "\n",
    "y_pred = model.predict(X_test)\n",
    "y_pred = np.round(y_pred).astype(int)\n",
    "\n",
    "print(f'Accuracy score is {accuracy_score(y_test, y_pred)}')"
   ]
  },
  {
   "attachments": {},
   "cell_type": "markdown",
   "metadata": {},
   "source": [
    "## Bag of Words"
   ]
  },
  {
   "cell_type": "code",
   "execution_count": 38,
   "metadata": {},
   "outputs": [],
   "source": [
    "cv = CountVectorizer()\n",
    "X = cv.fit_transform(df['message'])\n",
    "y = df['target']\n",
    "\n",
    "le = LabelEncoder()\n",
    "y = le.fit_transform(y)\n",
    "\n",
    "X_train, X_test, y_train, y_test = train_test_split(X, y, test_size=0.2, random_state=42)\n"
   ]
  },
  {
   "cell_type": "code",
   "execution_count": 39,
   "metadata": {},
   "outputs": [
    {
     "name": "stdout",
     "output_type": "stream",
     "text": [
      "Epoch 1/100\n",
      "130/130 [==============================] - 2s 7ms/step - loss: 0.3006 - accuracy: 0.9189 - val_loss: 0.1201 - val_accuracy: 0.9797\n",
      "Epoch 2/100\n",
      "130/130 [==============================] - 1s 6ms/step - loss: 0.0482 - accuracy: 0.9903 - val_loss: 0.0823 - val_accuracy: 0.9806\n",
      "Epoch 3/100\n",
      "130/130 [==============================] - 1s 6ms/step - loss: 0.0157 - accuracy: 0.9969 - val_loss: 0.0959 - val_accuracy: 0.9816\n",
      "Epoch 4/100\n",
      "130/130 [==============================] - 1s 5ms/step - loss: 0.0073 - accuracy: 0.9985 - val_loss: 0.0930 - val_accuracy: 0.9855\n",
      "Epoch 5/100\n",
      "130/130 [==============================] - 1s 5ms/step - loss: 0.0042 - accuracy: 0.9993 - val_loss: 0.0927 - val_accuracy: 0.9864\n",
      "33/33 [==============================] - 0s 3ms/step\n",
      "Accuracy score is 0.9864472410454985\n"
     ]
    }
   ],
   "source": [
    "model = Sequential()\n",
    "\n",
    "model.add(Dense(32, input_dim=X_train.shape[1], activation='relu'))\n",
    "model.add(Dense(16, activation='relu'))\n",
    "model.add(Dense(1, activation='sigmoid'))\n",
    "\n",
    "model.compile(loss='binary_crossentropy', optimizer='adam', metrics=['accuracy'])\n",
    "model.fit(X_train.toarray(), y_train, epochs=100, batch_size=32, validation_data=(X_test.toarray(), y_test), callbacks=[EarlyStopping(monitor='val_loss', patience=3, min_delta=0.0001)])\n",
    "\n",
    "y_pred = model.predict(X_test.toarray())\n",
    "y_pred = np.round(y_pred).astype(int)\n",
    "\n",
    "print(f'Accuracy score is {accuracy_score(y_test, y_pred)}')"
   ]
  },
  {
   "cell_type": "code",
   "execution_count": 40,
   "metadata": {},
   "outputs": [
    {
     "name": "stderr",
     "output_type": "stream",
     "text": [
      "2023-05-29 04:02:47.756840: I tensorflow/core/common_runtime/executor.cc:1197] [/device:CPU:0] (DEBUG INFO) Executor start aborting (this does not indicate an error and you can ignore this message): INVALID_ARGUMENT: You must feed a value for placeholder tensor 'gradients/split_2_grad/concat/split_2/split_dim' with dtype int32\n",
      "\t [[{{node gradients/split_2_grad/concat/split_2/split_dim}}]]\n",
      "2023-05-29 04:02:47.758559: I tensorflow/core/common_runtime/executor.cc:1197] [/device:CPU:0] (DEBUG INFO) Executor start aborting (this does not indicate an error and you can ignore this message): INVALID_ARGUMENT: You must feed a value for placeholder tensor 'gradients/split_grad/concat/split/split_dim' with dtype int32\n",
      "\t [[{{node gradients/split_grad/concat/split/split_dim}}]]\n",
      "2023-05-29 04:02:47.759875: I tensorflow/core/common_runtime/executor.cc:1197] [/device:CPU:0] (DEBUG INFO) Executor start aborting (this does not indicate an error and you can ignore this message): INVALID_ARGUMENT: You must feed a value for placeholder tensor 'gradients/split_1_grad/concat/split_1/split_dim' with dtype int32\n",
      "\t [[{{node gradients/split_1_grad/concat/split_1/split_dim}}]]\n",
      "2023-05-29 04:02:47.999036: I tensorflow/core/common_runtime/executor.cc:1197] [/device:CPU:0] (DEBUG INFO) Executor start aborting (this does not indicate an error and you can ignore this message): INVALID_ARGUMENT: You must feed a value for placeholder tensor 'gradients/split_2_grad/concat/split_2/split_dim' with dtype int32\n",
      "\t [[{{node gradients/split_2_grad/concat/split_2/split_dim}}]]\n",
      "2023-05-29 04:02:48.000743: I tensorflow/core/common_runtime/executor.cc:1197] [/device:CPU:0] (DEBUG INFO) Executor start aborting (this does not indicate an error and you can ignore this message): INVALID_ARGUMENT: You must feed a value for placeholder tensor 'gradients/split_grad/concat/split/split_dim' with dtype int32\n",
      "\t [[{{node gradients/split_grad/concat/split/split_dim}}]]\n",
      "2023-05-29 04:02:48.003309: I tensorflow/core/common_runtime/executor.cc:1197] [/device:CPU:0] (DEBUG INFO) Executor start aborting (this does not indicate an error and you can ignore this message): INVALID_ARGUMENT: You must feed a value for placeholder tensor 'gradients/split_1_grad/concat/split_1/split_dim' with dtype int32\n",
      "\t [[{{node gradients/split_1_grad/concat/split_1/split_dim}}]]\n"
     ]
    },
    {
     "name": "stdout",
     "output_type": "stream",
     "text": [
      "Epoch 1/100\n"
     ]
    },
    {
     "name": "stderr",
     "output_type": "stream",
     "text": [
      "2023-05-29 04:02:48.599289: I tensorflow/core/common_runtime/executor.cc:1197] [/device:CPU:0] (DEBUG INFO) Executor start aborting (this does not indicate an error and you can ignore this message): INVALID_ARGUMENT: You must feed a value for placeholder tensor 'gradients/split_2_grad/concat/split_2/split_dim' with dtype int32\n",
      "\t [[{{node gradients/split_2_grad/concat/split_2/split_dim}}]]\n",
      "2023-05-29 04:02:48.601356: I tensorflow/core/common_runtime/executor.cc:1197] [/device:CPU:0] (DEBUG INFO) Executor start aborting (this does not indicate an error and you can ignore this message): INVALID_ARGUMENT: You must feed a value for placeholder tensor 'gradients/split_grad/concat/split/split_dim' with dtype int32\n",
      "\t [[{{node gradients/split_grad/concat/split/split_dim}}]]\n",
      "2023-05-29 04:02:48.605738: I tensorflow/core/common_runtime/executor.cc:1197] [/device:CPU:0] (DEBUG INFO) Executor start aborting (this does not indicate an error and you can ignore this message): INVALID_ARGUMENT: You must feed a value for placeholder tensor 'gradients/split_1_grad/concat/split_1/split_dim' with dtype int32\n",
      "\t [[{{node gradients/split_1_grad/concat/split_1/split_dim}}]]\n",
      "2023-05-29 04:02:48.863503: I tensorflow/core/common_runtime/executor.cc:1197] [/device:CPU:0] (DEBUG INFO) Executor start aborting (this does not indicate an error and you can ignore this message): INVALID_ARGUMENT: You must feed a value for placeholder tensor 'gradients/split_2_grad/concat/split_2/split_dim' with dtype int32\n",
      "\t [[{{node gradients/split_2_grad/concat/split_2/split_dim}}]]\n",
      "2023-05-29 04:02:48.865371: I tensorflow/core/common_runtime/executor.cc:1197] [/device:CPU:0] (DEBUG INFO) Executor start aborting (this does not indicate an error and you can ignore this message): INVALID_ARGUMENT: You must feed a value for placeholder tensor 'gradients/split_grad/concat/split/split_dim' with dtype int32\n",
      "\t [[{{node gradients/split_grad/concat/split/split_dim}}]]\n",
      "2023-05-29 04:02:48.866721: I tensorflow/core/common_runtime/executor.cc:1197] [/device:CPU:0] (DEBUG INFO) Executor start aborting (this does not indicate an error and you can ignore this message): INVALID_ARGUMENT: You must feed a value for placeholder tensor 'gradients/split_1_grad/concat/split_1/split_dim' with dtype int32\n",
      "\t [[{{node gradients/split_1_grad/concat/split_1/split_dim}}]]\n",
      "2023-05-29 04:02:50.308947: I tensorflow/core/common_runtime/executor.cc:1197] [/device:CPU:0] (DEBUG INFO) Executor start aborting (this does not indicate an error and you can ignore this message): INVALID_ARGUMENT: You must feed a value for placeholder tensor 'gradients/split_2_grad/concat/split_2/split_dim' with dtype int32\n",
      "\t [[{{node gradients/split_2_grad/concat/split_2/split_dim}}]]\n",
      "2023-05-29 04:02:50.311317: I tensorflow/core/common_runtime/executor.cc:1197] [/device:CPU:0] (DEBUG INFO) Executor start aborting (this does not indicate an error and you can ignore this message): INVALID_ARGUMENT: You must feed a value for placeholder tensor 'gradients/split_grad/concat/split/split_dim' with dtype int32\n",
      "\t [[{{node gradients/split_grad/concat/split/split_dim}}]]\n",
      "2023-05-29 04:02:50.313708: I tensorflow/core/common_runtime/executor.cc:1197] [/device:CPU:0] (DEBUG INFO) Executor start aborting (this does not indicate an error and you can ignore this message): INVALID_ARGUMENT: You must feed a value for placeholder tensor 'gradients/split_1_grad/concat/split_1/split_dim' with dtype int32\n",
      "\t [[{{node gradients/split_1_grad/concat/split_1/split_dim}}]]\n",
      "2023-05-29 04:02:50.615784: I tensorflow/core/common_runtime/executor.cc:1197] [/device:CPU:0] (DEBUG INFO) Executor start aborting (this does not indicate an error and you can ignore this message): INVALID_ARGUMENT: You must feed a value for placeholder tensor 'gradients/split_2_grad/concat/split_2/split_dim' with dtype int32\n",
      "\t [[{{node gradients/split_2_grad/concat/split_2/split_dim}}]]\n",
      "2023-05-29 04:02:50.619052: I tensorflow/core/common_runtime/executor.cc:1197] [/device:CPU:0] (DEBUG INFO) Executor start aborting (this does not indicate an error and you can ignore this message): INVALID_ARGUMENT: You must feed a value for placeholder tensor 'gradients/split_grad/concat/split/split_dim' with dtype int32\n",
      "\t [[{{node gradients/split_grad/concat/split/split_dim}}]]\n",
      "2023-05-29 04:02:50.622235: I tensorflow/core/common_runtime/executor.cc:1197] [/device:CPU:0] (DEBUG INFO) Executor start aborting (this does not indicate an error and you can ignore this message): INVALID_ARGUMENT: You must feed a value for placeholder tensor 'gradients/split_1_grad/concat/split_1/split_dim' with dtype int32\n",
      "\t [[{{node gradients/split_1_grad/concat/split_1/split_dim}}]]\n"
     ]
    },
    {
     "name": "stdout",
     "output_type": "stream",
     "text": [
      "128/130 [============================>.] - ETA: 0s - loss: 0.4294 - accuracy: 0.9033"
     ]
    },
    {
     "name": "stderr",
     "output_type": "stream",
     "text": [
      "2023-05-29 04:02:53.977881: I tensorflow/core/common_runtime/executor.cc:1197] [/device:CPU:0] (DEBUG INFO) Executor start aborting (this does not indicate an error and you can ignore this message): INVALID_ARGUMENT: You must feed a value for placeholder tensor 'gradients/split_2_grad/concat/split_2/split_dim' with dtype int32\n",
      "\t [[{{node gradients/split_2_grad/concat/split_2/split_dim}}]]\n",
      "2023-05-29 04:02:53.980437: I tensorflow/core/common_runtime/executor.cc:1197] [/device:CPU:0] (DEBUG INFO) Executor start aborting (this does not indicate an error and you can ignore this message): INVALID_ARGUMENT: You must feed a value for placeholder tensor 'gradients/split_grad/concat/split/split_dim' with dtype int32\n",
      "\t [[{{node gradients/split_grad/concat/split/split_dim}}]]\n",
      "2023-05-29 04:02:53.982637: I tensorflow/core/common_runtime/executor.cc:1197] [/device:CPU:0] (DEBUG INFO) Executor start aborting (this does not indicate an error and you can ignore this message): INVALID_ARGUMENT: You must feed a value for placeholder tensor 'gradients/split_1_grad/concat/split_1/split_dim' with dtype int32\n",
      "\t [[{{node gradients/split_1_grad/concat/split_1/split_dim}}]]\n",
      "2023-05-29 04:02:54.231046: I tensorflow/core/common_runtime/executor.cc:1197] [/device:CPU:0] (DEBUG INFO) Executor start aborting (this does not indicate an error and you can ignore this message): INVALID_ARGUMENT: You must feed a value for placeholder tensor 'gradients/split_2_grad/concat/split_2/split_dim' with dtype int32\n",
      "\t [[{{node gradients/split_2_grad/concat/split_2/split_dim}}]]\n",
      "2023-05-29 04:02:54.232654: I tensorflow/core/common_runtime/executor.cc:1197] [/device:CPU:0] (DEBUG INFO) Executor start aborting (this does not indicate an error and you can ignore this message): INVALID_ARGUMENT: You must feed a value for placeholder tensor 'gradients/split_grad/concat/split/split_dim' with dtype int32\n",
      "\t [[{{node gradients/split_grad/concat/split/split_dim}}]]\n",
      "2023-05-29 04:02:54.234466: I tensorflow/core/common_runtime/executor.cc:1197] [/device:CPU:0] (DEBUG INFO) Executor start aborting (this does not indicate an error and you can ignore this message): INVALID_ARGUMENT: You must feed a value for placeholder tensor 'gradients/split_1_grad/concat/split_1/split_dim' with dtype int32\n",
      "\t [[{{node gradients/split_1_grad/concat/split_1/split_dim}}]]\n"
     ]
    },
    {
     "name": "stdout",
     "output_type": "stream",
     "text": [
      "130/130 [==============================] - 6s 15ms/step - loss: 0.4273 - accuracy: 0.9039 - val_loss: 0.1736 - val_accuracy: 0.9739\n",
      "Epoch 2/100\n",
      "130/130 [==============================] - 1s 8ms/step - loss: 0.1225 - accuracy: 0.9862 - val_loss: 0.1155 - val_accuracy: 0.9806\n",
      "Epoch 3/100\n",
      "130/130 [==============================] - 1s 8ms/step - loss: 0.0696 - accuracy: 0.9944 - val_loss: 0.0913 - val_accuracy: 0.9845\n",
      "Epoch 4/100\n",
      "130/130 [==============================] - 1s 7ms/step - loss: 0.0351 - accuracy: 0.9969 - val_loss: 0.0832 - val_accuracy: 0.9806\n",
      "Epoch 5/100\n",
      "130/130 [==============================] - 1s 7ms/step - loss: 0.0200 - accuracy: 0.9981 - val_loss: 0.0845 - val_accuracy: 0.9787\n",
      "Epoch 6/100\n",
      "130/130 [==============================] - 1s 8ms/step - loss: 0.0142 - accuracy: 0.9985 - val_loss: 0.0863 - val_accuracy: 0.9787\n",
      "Epoch 7/100\n",
      "130/130 [==============================] - 1s 7ms/step - loss: 0.0117 - accuracy: 0.9985 - val_loss: 0.0894 - val_accuracy: 0.9797\n"
     ]
    },
    {
     "name": "stderr",
     "output_type": "stream",
     "text": [
      "2023-05-29 04:03:00.889001: I tensorflow/core/common_runtime/executor.cc:1197] [/device:CPU:0] (DEBUG INFO) Executor start aborting (this does not indicate an error and you can ignore this message): INVALID_ARGUMENT: You must feed a value for placeholder tensor 'gradients/split_2_grad/concat/split_2/split_dim' with dtype int32\n",
      "\t [[{{node gradients/split_2_grad/concat/split_2/split_dim}}]]\n",
      "2023-05-29 04:03:00.890886: I tensorflow/core/common_runtime/executor.cc:1197] [/device:CPU:0] (DEBUG INFO) Executor start aborting (this does not indicate an error and you can ignore this message): INVALID_ARGUMENT: You must feed a value for placeholder tensor 'gradients/split_grad/concat/split/split_dim' with dtype int32\n",
      "\t [[{{node gradients/split_grad/concat/split/split_dim}}]]\n",
      "2023-05-29 04:03:00.892348: I tensorflow/core/common_runtime/executor.cc:1197] [/device:CPU:0] (DEBUG INFO) Executor start aborting (this does not indicate an error and you can ignore this message): INVALID_ARGUMENT: You must feed a value for placeholder tensor 'gradients/split_1_grad/concat/split_1/split_dim' with dtype int32\n",
      "\t [[{{node gradients/split_1_grad/concat/split_1/split_dim}}]]\n",
      "2023-05-29 04:03:01.129121: I tensorflow/core/common_runtime/executor.cc:1197] [/device:CPU:0] (DEBUG INFO) Executor start aborting (this does not indicate an error and you can ignore this message): INVALID_ARGUMENT: You must feed a value for placeholder tensor 'gradients/split_2_grad/concat/split_2/split_dim' with dtype int32\n",
      "\t [[{{node gradients/split_2_grad/concat/split_2/split_dim}}]]\n",
      "2023-05-29 04:03:01.131073: I tensorflow/core/common_runtime/executor.cc:1197] [/device:CPU:0] (DEBUG INFO) Executor start aborting (this does not indicate an error and you can ignore this message): INVALID_ARGUMENT: You must feed a value for placeholder tensor 'gradients/split_grad/concat/split/split_dim' with dtype int32\n",
      "\t [[{{node gradients/split_grad/concat/split/split_dim}}]]\n",
      "2023-05-29 04:03:01.132506: I tensorflow/core/common_runtime/executor.cc:1197] [/device:CPU:0] (DEBUG INFO) Executor start aborting (this does not indicate an error and you can ignore this message): INVALID_ARGUMENT: You must feed a value for placeholder tensor 'gradients/split_1_grad/concat/split_1/split_dim' with dtype int32\n",
      "\t [[{{node gradients/split_1_grad/concat/split_1/split_dim}}]]\n"
     ]
    },
    {
     "name": "stdout",
     "output_type": "stream",
     "text": [
      "33/33 [==============================] - 1s 3ms/step\n",
      "Accuracy score is 0.9796708615682478\n"
     ]
    }
   ],
   "source": [
    "model = Sequential()\n",
    "model.add(Dense(32, input_dim=X_train.shape[1], activation='relu'))\n",
    "model.add(Reshape((1, 32)))\n",
    "model.add(LSTM(16, return_sequences=True))\n",
    "model.add(LSTM(8, return_sequences=False))\n",
    "model.add(Dense(1, activation='sigmoid'))\n",
    "\n",
    "model.compile(loss='binary_crossentropy', optimizer='adam', metrics=['accuracy'])\n",
    "model.fit(X_train.toarray(), y_train, epochs=100, batch_size=32, validation_data=(X_test.toarray(), y_test), callbacks=[EarlyStopping(monitor='val_loss', patience=3, min_delta=0.0001)])\n",
    "\n",
    "y_pred = model.predict(X_test.toarray())\n",
    "y_pred = np.round(y_pred).astype(int)\n",
    "\n",
    "print(f'Accuracy score is {accuracy_score(y_test, y_pred)}')"
   ]
  }
 ],
 "metadata": {
  "kernelspec": {
   "display_name": "Python 3",
   "language": "python",
   "name": "python3"
  },
  "language_info": {
   "codemirror_mode": {
    "name": "ipython",
    "version": 3
   },
   "file_extension": ".py",
   "mimetype": "text/x-python",
   "name": "python",
   "nbconvert_exporter": "python",
   "pygments_lexer": "ipython3",
   "version": "3.9.16"
  },
  "orig_nbformat": 4
 },
 "nbformat": 4,
 "nbformat_minor": 2
}
